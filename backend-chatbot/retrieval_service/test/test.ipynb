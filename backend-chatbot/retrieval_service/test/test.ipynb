{
 "cells": [
  {
   "cell_type": "code",
   "execution_count": 1,
   "metadata": {},
   "outputs": [],
   "source": [
    "import sys\n",
    "from pathlib import Path"
   ]
  },
  {
   "cell_type": "code",
   "execution_count": 2,
   "metadata": {},
   "outputs": [],
   "source": [
    "project_root = Path.cwd().parent  # Assuming notebook is in project_root/notebooks/\n",
    "sys.path.append(str(project_root))"
   ]
  },
  {
   "cell_type": "code",
   "execution_count": 3,
   "metadata": {},
   "outputs": [
    {
     "name": "stdout",
     "output_type": "stream",
     "text": [
      "Added /Users/robinsingh/Desktop/LLM_GEN_AI /api-docs-ai/retrieval_service to Python path\n",
      "\n",
      "Current Python path:\n",
      "- /Users/robinsingh/miniconda3/envs/nextjs/lib/python39.zip\n",
      "- /Users/robinsingh/miniconda3/envs/nextjs/lib/python3.9\n",
      "- /Users/robinsingh/miniconda3/envs/nextjs/lib/python3.9/lib-dynload\n",
      "- \n",
      "- /Users/robinsingh/miniconda3/envs/nextjs/lib/python3.9/site-packages\n",
      "- /Users/robinsingh/Desktop/LLM_GEN_AI /api-docs-ai/retrieval_service\n"
     ]
    }
   ],
   "source": [
    "print(f\"Added {project_root} to Python path\")\n",
    "print(\"\\nCurrent Python path:\")\n",
    "for p in sys.path:\n",
    "    print(f\"- {p}\")\n"
   ]
  },
  {
   "cell_type": "code",
   "execution_count": 1,
   "metadata": {},
   "outputs": [],
   "source": [
    "from app.core.enums import  DocSource"
   ]
  },
  {
   "cell_type": "code",
   "execution_count": 21,
   "metadata": {},
   "outputs": [],
   "source": [
    "from app.retrieval.embeddings.dense import DenseEmbedder  # Adjust the import path as needed"
   ]
  },
  {
   "cell_type": "code",
   "execution_count": 3,
   "metadata": {},
   "outputs": [
    {
     "name": "stdout",
     "output_type": "stream",
     "text": [
      "Using device: mps\n"
     ]
    }
   ],
   "source": [
    "from app.retrieval.base import RetrievalPipeline"
   ]
  },
  {
   "cell_type": "code",
   "execution_count": 5,
   "metadata": {},
   "outputs": [
    {
     "name": "stdout",
     "output_type": "stream",
     "text": [
      "\n",
      "Imports successful!\n"
     ]
    }
   ],
   "source": [
    "# Second cell - Test imports\n",
    "try:\n",
    "    from app.core.enums import DocSource\n",
    "    from app.retrieval.base import RetrievalPipeline\n",
    "    print(\"\\nImports successful!\")\n",
    "except ImportError as e:\n",
    "    print(f\"\\nImport error: {str(e)}\")\n",
    "    print(\"\\nMake sure your directory structure is correct:\")\n",
    "    print(\"\"\"\n",
    "    project_root/\n",
    "    ├── app/\n",
    "    │   ├── __init__.py\n",
    "    │   ├── core/\n",
    "    │   │   ├── __init__.py\n",
    "    │   │   └── enums.py\n",
    "    │   └── retrieval/\n",
    "    │       ├── __init__.py\n",
    "    │       └── base.py\n",
    "    └── notebooks/\n",
    "        └── test_pipeline.ipynb\n",
    "    \"\"\")"
   ]
  },
  {
   "cell_type": "code",
   "execution_count": 4,
   "metadata": {},
   "outputs": [
    {
     "name": "stdout",
     "output_type": "stream",
     "text": [
      "2025-02-16 09:51:42 | INFO     | retrieval_pipeline:__init__:19 - Initializing dense embedder with model BAAI/bge-small-en-v1.5 on mps\n"
     ]
    },
    {
     "data": {
      "application/vnd.jupyter.widget-view+json": {
       "model_id": "2c267ae9aff64fd9bd4ca7d96c5dfbe6",
       "version_major": 2,
       "version_minor": 0
      },
      "text/plain": [
       "Fetching 5 files:   0%|          | 0/5 [00:00<?, ?it/s]"
      ]
     },
     "metadata": {},
     "output_type": "display_data"
    },
    {
     "data": {
      "application/vnd.jupyter.widget-view+json": {
       "model_id": "080dbb74bc3748939075f42d3156271a",
       "version_major": 2,
       "version_minor": 0
      },
      "text/plain": [
       "tokenizer.json:   0%|          | 0.00/711k [00:00<?, ?B/s]"
      ]
     },
     "metadata": {},
     "output_type": "display_data"
    },
    {
     "data": {
      "application/vnd.jupyter.widget-view+json": {
       "model_id": "60d35d7432e5461da90f70e617e1a982",
       "version_major": 2,
       "version_minor": 0
      },
      "text/plain": [
       "tokenizer_config.json:   0%|          | 0.00/1.24k [00:00<?, ?B/s]"
      ]
     },
     "metadata": {},
     "output_type": "display_data"
    },
    {
     "data": {
      "application/vnd.jupyter.widget-view+json": {
       "model_id": "fbc2715872be408987c70206039433a4",
       "version_major": 2,
       "version_minor": 0
      },
      "text/plain": [
       "config.json:   0%|          | 0.00/706 [00:00<?, ?B/s]"
      ]
     },
     "metadata": {},
     "output_type": "display_data"
    },
    {
     "data": {
      "application/vnd.jupyter.widget-view+json": {
       "model_id": "14b95ed1f62542688395ab0c41158174",
       "version_major": 2,
       "version_minor": 0
      },
      "text/plain": [
       "model_optimized.onnx:   0%|          | 0.00/66.5M [00:00<?, ?B/s]"
      ]
     },
     "metadata": {},
     "output_type": "display_data"
    },
    {
     "data": {
      "application/vnd.jupyter.widget-view+json": {
       "model_id": "3d46a16796284505a2954faa1385d60f",
       "version_major": 2,
       "version_minor": 0
      },
      "text/plain": [
       "special_tokens_map.json:   0%|          | 0.00/695 [00:00<?, ?B/s]"
      ]
     },
     "metadata": {},
     "output_type": "display_data"
    },
    {
     "name": "stdout",
     "output_type": "stream",
     "text": [
      "2025-02-16 09:51:45 | INFO     | retrieval_pipeline:__init__:15 - Initializing sparse embedder with model prithivida/Splade_PP_en_v1\n"
     ]
    },
    {
     "data": {
      "application/vnd.jupyter.widget-view+json": {
       "model_id": "222cdb296c0f43818be0737fc8e2473e",
       "version_major": 2,
       "version_minor": 0
      },
      "text/plain": [
       "Fetching 5 files:   0%|          | 0/5 [00:00<?, ?it/s]"
      ]
     },
     "metadata": {},
     "output_type": "display_data"
    },
    {
     "data": {
      "application/vnd.jupyter.widget-view+json": {
       "model_id": "da36e345465d4d16a47a49713abde514",
       "version_major": 2,
       "version_minor": 0
      },
      "text/plain": [
       "tokenizer_config.json:   0%|          | 0.00/1.38k [00:00<?, ?B/s]"
      ]
     },
     "metadata": {},
     "output_type": "display_data"
    },
    {
     "data": {
      "application/vnd.jupyter.widget-view+json": {
       "model_id": "782015c0a2974e7cb269a30fd6239994",
       "version_major": 2,
       "version_minor": 0
      },
      "text/plain": [
       "config.json:   0%|          | 0.00/755 [00:00<?, ?B/s]"
      ]
     },
     "metadata": {},
     "output_type": "display_data"
    },
    {
     "data": {
      "application/vnd.jupyter.widget-view+json": {
       "model_id": "53b486682cb342de863f45b55c240325",
       "version_major": 2,
       "version_minor": 0
      },
      "text/plain": [
       "special_tokens_map.json:   0%|          | 0.00/695 [00:00<?, ?B/s]"
      ]
     },
     "metadata": {},
     "output_type": "display_data"
    },
    {
     "data": {
      "application/vnd.jupyter.widget-view+json": {
       "model_id": "f462bca276dc492d9bfa91666033d597",
       "version_major": 2,
       "version_minor": 0
      },
      "text/plain": [
       "model.onnx:   0%|          | 0.00/532M [00:00<?, ?B/s]"
      ]
     },
     "metadata": {},
     "output_type": "display_data"
    },
    {
     "data": {
      "application/vnd.jupyter.widget-view+json": {
       "model_id": "d7334ec218cb40519b25a1c6a4c49157",
       "version_major": 2,
       "version_minor": 0
      },
      "text/plain": [
       "tokenizer.json:   0%|          | 0.00/712k [00:00<?, ?B/s]"
      ]
     },
     "metadata": {},
     "output_type": "display_data"
    },
    {
     "name": "stdout",
     "output_type": "stream",
     "text": [
      "2025-02-16 09:51:58 | INFO     | retrieval_pipeline:__init__:14 - Initializing reranker with model Xenova/ms-marco-MiniLM-L-6-v2\n"
     ]
    },
    {
     "data": {
      "application/vnd.jupyter.widget-view+json": {
       "model_id": "28b97d1a61844cc28fec4c8cf091ac7a",
       "version_major": 2,
       "version_minor": 0
      },
      "text/plain": [
       "Fetching 5 files:   0%|          | 0/5 [00:00<?, ?it/s]"
      ]
     },
     "metadata": {},
     "output_type": "display_data"
    },
    {
     "data": {
      "application/vnd.jupyter.widget-view+json": {
       "model_id": "f3841348450b49e7a9a9f81e5dc8d118",
       "version_major": 2,
       "version_minor": 0
      },
      "text/plain": [
       "tokenizer.json:   0%|          | 0.00/711k [00:00<?, ?B/s]"
      ]
     },
     "metadata": {},
     "output_type": "display_data"
    },
    {
     "data": {
      "application/vnd.jupyter.widget-view+json": {
       "model_id": "d78e93f3dbb04898b28ca0630b95dc2e",
       "version_major": 2,
       "version_minor": 0
      },
      "text/plain": [
       "config.json:   0%|          | 0.00/824 [00:00<?, ?B/s]"
      ]
     },
     "metadata": {},
     "output_type": "display_data"
    },
    {
     "data": {
      "application/vnd.jupyter.widget-view+json": {
       "model_id": "662d9c6224614c169186d12d334957e3",
       "version_major": 2,
       "version_minor": 0
      },
      "text/plain": [
       "tokenizer_config.json:   0%|          | 0.00/1.24k [00:00<?, ?B/s]"
      ]
     },
     "metadata": {},
     "output_type": "display_data"
    },
    {
     "data": {
      "application/vnd.jupyter.widget-view+json": {
       "model_id": "ec0e554d3e8f4212a3ac3347768c311a",
       "version_major": 2,
       "version_minor": 0
      },
      "text/plain": [
       "special_tokens_map.json:   0%|          | 0.00/125 [00:00<?, ?B/s]"
      ]
     },
     "metadata": {},
     "output_type": "display_data"
    },
    {
     "data": {
      "application/vnd.jupyter.widget-view+json": {
       "model_id": "f37d3e958f594f22814c9f1e90408fcf",
       "version_major": 2,
       "version_minor": 0
      },
      "text/plain": [
       "model.onnx:   0%|          | 0.00/91.0M [00:00<?, ?B/s]"
      ]
     },
     "metadata": {},
     "output_type": "display_data"
    },
    {
     "name": "stdout",
     "output_type": "stream",
     "text": [
      "Pipeline initialized successfully!\n"
     ]
    }
   ],
   "source": [
    "# Third cell - Initialize pipeline\n",
    "pipeline = RetrievalPipeline()\n",
    "print(\"Pipeline initialized successfully!\")"
   ]
  },
  {
   "cell_type": "code",
   "execution_count": 5,
   "metadata": {},
   "outputs": [
    {
     "name": "stdout",
     "output_type": "stream",
     "text": [
      "Processing Flutter documentation...\n",
      "2025-02-16 09:52:09 | INFO     | retrieval_pipeline:process_documents:35 - Processing documents for nextjs\n",
      "2025-02-16 09:52:09 | INFO     | retrieval_pipeline:clear_data:137 - Cleared all data for nextjs\n",
      "2025-02-16 09:52:09 | INFO     | retrieval_pipeline:fetch_sitemap:24 - Fetching sitemap from https://nextjs.org/sitemap.xml\n",
      "2025-02-16 09:52:09 | INFO     | retrieval_pipeline:fetch_sitemap:31 - Found 570 URLs in sitemap\n"
     ]
    },
    {
     "name": "stderr",
     "output_type": "stream",
     "text": [
      "Fetching URLs: 100%|██████████| 570/570 [02:35<00:00,  3.67it/s]\n"
     ]
    },
    {
     "name": "stdout",
     "output_type": "stream",
     "text": [
      "2025-02-16 09:54:44 | INFO     | retrieval_pipeline:fetch_all_contents:76 - Successfully fetched 570 out of 570 URLs\n",
      "2025-02-16 09:54:46 | INFO     | retrieval_pipeline:chunk_documents:56 - Generated 1574 chunks from 570 documents\n",
      "2025-02-16 09:54:46 | INFO     | retrieval_pipeline:embed_texts:29 - Generating dense embeddings for 1574 texts\n"
     ]
    },
    {
     "name": "stderr",
     "output_type": "stream",
     "text": [
      "Generating dense embeddings: 100%|██████████| 1574/1574 [03:55<00:00,  6.69it/s]\n"
     ]
    },
    {
     "name": "stdout",
     "output_type": "stream",
     "text": [
      "2025-02-16 09:58:41 | INFO     | retrieval_pipeline:build_index:60 - Building FAISS index...\n",
      "2025-02-16 09:58:41 | INFO     | retrieval_pipeline:build_index:63 - FAISS index built successfully\n",
      "2025-02-16 09:58:41 | INFO     | retrieval_pipeline:embed_texts:24 - Generating sparse embeddings for 1574 texts\n"
     ]
    },
    {
     "name": "stderr",
     "output_type": "stream",
     "text": [
      "Generating sparse embeddings: 100%|██████████| 1574/1574 [04:28<00:00,  5.86it/s]\n"
     ]
    },
    {
     "name": "stdout",
     "output_type": "stream",
     "text": [
      "2025-02-16 10:03:10 | INFO     | retrieval_pipeline:save_data:36 - Saving data for nextjs to data/nextjs_docs\n",
      "2025-02-16 10:03:10 | INFO     | retrieval_pipeline:save_data:56 - Successfully saved all data for nextjs\n",
      "2025-02-16 10:03:10 | INFO     | retrieval_pipeline:process_documents:74 - Successfully processed documents for nextjs\n"
     ]
    }
   ],
   "source": [
    "# Fourth cell - Process Flutter docs\n",
    "print(\"Processing Flutter documentation...\")\n",
    "pipeline.process_documents(DocSource.NEXTJS)"
   ]
  },
  {
   "cell_type": "code",
   "execution_count": 6,
   "metadata": {},
   "outputs": [
    {
     "name": "stdout",
     "output_type": "stream",
     "text": [
      "2025-02-16 10:06:12 | INFO     | retrieval_pipeline:load_source:88 - Loading data for nextjs\n",
      "2025-02-16 10:06:12 | INFO     | retrieval_pipeline:load_data:66 - Loading data for nextjs from data/nextjs_docs\n",
      "2025-02-16 10:06:12 | INFO     | retrieval_pipeline:load_data:100 - Successfully loaded all data for nextjs\n",
      "2025-02-16 10:06:12 | INFO     | retrieval_pipeline:load_source:98 - Successfully loaded data for nextjs\n",
      "\n",
      "Flutter Documentation Stats:\n",
      "- Total chunks: 1574\n",
      "- Total URLs: 570\n",
      "- Device: mps\n"
     ]
    }
   ],
   "source": [
    "pipeline.load_source(DocSource.NEXTJS)\n",
    "stats = pipeline.get_source_stats()\n",
    "print(\"\\nFlutter Documentation Stats:\")\n",
    "print(f\"- Total chunks: {stats['total_chunks']}\")\n",
    "print(f\"- Total URLs: {stats['total_urls']}\")\n",
    "print(f\"- Device: {stats['device']}\")"
   ]
  },
  {
   "cell_type": "code",
   "execution_count": 7,
   "metadata": {},
   "outputs": [],
   "source": [
    "# Fifth cell - Test search\n",
    "def test_search(query: str):\n",
    "    print(f\"Searching for: {query}\\n\")\n",
    "    results = pipeline.search_documents(query)\n",
    "    \n",
    "    print(f\"Status: {results['status']}\")\n",
    "    print(f\"Confidence: {results['confidence']}\\n\")\n",
    "    \n",
    "    if results['status'] == 'success':\n",
    "        for i, result in enumerate(results['results'][:3], 1):\n",
    "            print(f\"Result {i}:\")\n",
    "            print(f\"URL: {result['url']}\")\n",
    "            print(f\"Text: {result['text'][:200]}...\")\n",
    "            print(f\"Scores: {result['scores']}\\n\")"
   ]
  },
  {
   "cell_type": "code",
   "execution_count": 10,
   "metadata": {},
   "outputs": [
    {
     "name": "stdout",
     "output_type": "stream",
     "text": [
      "Searching for: Flutter?\n",
      "\n",
      "2025-02-16 10:08:26 | INFO     | retrieval_pipeline:rerank:23 - Reranking 20 texts\n",
      "2025-02-16 10:08:27 | INFO     | retrieval_pipeline:check_relevance:90 - Relevance metrics - Similarity: 0.664, Term overlap: 0.000\n",
      "Status: no_results\n",
      "Confidence: 0.66\n",
      "\n"
     ]
    }
   ],
   "source": [
    "test_search(\"Flutter?\")\n"
   ]
  },
  {
   "cell_type": "code",
   "execution_count": 12,
   "metadata": {},
   "outputs": [],
   "source": [
    "# First, clear any existing instances (if you've run the code before)\n",
    "from app.core.singleton import Singleton\n",
    "Singleton._instances = {}"
   ]
  },
  {
   "cell_type": "code",
   "execution_count": 13,
   "metadata": {},
   "outputs": [],
   "source": [
    "# Then run your test\n",
    "def test_search(query: str):\n",
    "    print(f\"Searching for: {query}\\n\")\n",
    "    results = pipeline.search_documents(query)\n",
    "    \n",
    "    print(f\"Status: {results['status']}\")\n",
    "    print(f\"Confidence: {results['confidence']}\\n\")\n",
    "    \n",
    "    if results['status'] == 'success':\n",
    "        for i, result in enumerate(results['results'][:3], 1):\n",
    "            print(f\"Result {i}:\")\n",
    "            print(f\"URL: {result['url']}\")\n",
    "            print(f\"Text: {result['text']}...\")\n",
    "            print(f\"Text: {len(result['text'])}...\")\n",
    "            print(f\"Scores: {result['scores']}\\n\")\n"
   ]
  },
  {
   "cell_type": "code",
   "execution_count": 13,
   "metadata": {},
   "outputs": [
    {
     "ename": "ModuleNotFoundError",
     "evalue": "No module named 'retrieval_service'",
     "output_type": "error",
     "traceback": [
      "\u001b[0;31m---------------------------------------------------------------------------\u001b[0m",
      "\u001b[0;31mModuleNotFoundError\u001b[0m                       Traceback (most recent call last)",
      "Cell \u001b[0;32mIn[13], line 1\u001b[0m\n\u001b[0;32m----> 1\u001b[0m \u001b[38;5;28;01mfrom\u001b[39;00m\u001b[38;5;250m \u001b[39m\u001b[38;5;21;01mretrieval_service\u001b[39;00m\u001b[38;5;21;01m.\u001b[39;00m\u001b[38;5;21;01mapp\u001b[39;00m\u001b[38;5;21;01m.\u001b[39;00m\u001b[38;5;21;01mcore\u001b[39;00m\u001b[38;5;21;01m.\u001b[39;00m\u001b[38;5;21;01menums\u001b[39;00m\u001b[38;5;250m \u001b[39m\u001b[38;5;28;01mimport\u001b[39;00m DocSource\n",
      "\u001b[0;31mModuleNotFoundError\u001b[0m: No module named 'retrieval_service'"
     ]
    }
   ],
   "source": [
    "from retrieval_service.app.core.enums import DocSource"
   ]
  },
  {
   "cell_type": "code",
   "execution_count": 47,
   "metadata": {},
   "outputs": [],
   "source": [
    "# Initialize pipeline\n",
    "from app.core.enums import DocSource\n",
    "from app.retrieval.base import RetrievalPipeline"
   ]
  },
  {
   "cell_type": "code",
   "execution_count": 48,
   "metadata": {},
   "outputs": [
    {
     "name": "stdout",
     "output_type": "stream",
     "text": [
      "2025-02-12 14:45:28 | INFO     | retrieval_pipeline:load_source:88 - Loading data for flutter\n",
      "2025-02-12 14:45:28 | INFO     | retrieval_pipeline:load_data:66 - Loading data for flutter from data/flutter_docs\n",
      "2025-02-12 14:45:28 | INFO     | retrieval_pipeline:load_data:100 - Successfully loaded all data for flutter\n",
      "2025-02-12 14:45:28 | INFO     | retrieval_pipeline:load_source:98 - Successfully loaded data for flutter\n"
     ]
    }
   ],
   "source": [
    "pipeline = RetrievalPipeline()\n",
    "pipeline.load_source(DocSource.FLUTTER)"
   ]
  },
  {
   "cell_type": "code",
   "execution_count": 49,
   "metadata": {},
   "outputs": [
    {
     "name": "stdout",
     "output_type": "stream",
     "text": [
      "Searching for: How to create a StatefulWidget?\n",
      "\n",
      "2025-02-12 14:45:32 | INFO     | retrieval_pipeline:rerank:23 - Reranking 20 texts\n",
      "2025-02-12 14:45:34 | INFO     | retrieval_pipeline:check_relevance:90 - Relevance metrics - Similarity: 0.824, Term overlap: 1.000\n",
      "Status: success\n",
      "Confidence: 0.82\n",
      "\n",
      "Result 1:\n",
      "URL: https://docs.flutter.dev/cookbook/animation/opacity-animation\n",
      "Text: Fade a widget in and out | Flutterdocs.flutter.dev uses cookies from Google to deliver and enhance the quality of its services and to analyze traffic . Learn more.OK , got it1 . Create a box to fade in and out2 . Define a StatefulWidget3 . Display a button that toggles the visibility4 . Fade the box in and outInteractive example1 . Create a box to ......\n",
      "Text: 353...\n",
      "Scores: {'final': 0.928, 'dense': 0.794, 'sparse': 1.0, 'rerank': 1.0}\n",
      "\n",
      "Result 2:\n",
      "URL: https://docs.flutter.dev/cookbook/animation/opacity-animation\n",
      "Text: const MyApp ( ) ) ; class MyApp extends StatelessWidget { Widget build ( BuildContext context ) { const appTitle = 'Opacity Demo ' ; home : MyHomePage ( title : appTitle ) , // The StatefulWidget 's job is to take data and create a State class . // In this case , the widget takes a title , and creates a _MyHomePageState . class MyHomePage extends S......\n",
      "Text: 353...\n",
      "Scores: {'final': 0.867, 'dense': 0.728, 'sparse': 0.937, 'rerank': 0.944}\n",
      "\n",
      "Result 3:\n",
      "URL: https://docs.flutter.dev/ui/interactivity\n",
      "Text: stateless . If a widget can change—when a user interacts with it , for example—it 's stateful.A stateless widget never changes . Icon , IconButton , and Text are examples of stateless widgets . Stateless widgets subclass StatelessWidget.A stateful widget is dynamic : for example , it can change its appearance in response to events triggered by user......\n",
      "Text: 353...\n",
      "Scores: {'final': 0.854, 'dense': 1.0, 'sparse': 0.73, 'rerank': 0.79}\n",
      "\n"
     ]
    }
   ],
   "source": [
    "test_search(\"How to create a StatefulWidget?\")\n"
   ]
  },
  {
   "cell_type": "code",
   "execution_count": 16,
   "metadata": {},
   "outputs": [
    {
     "name": "stdout",
     "output_type": "stream",
     "text": [
      "2025-02-11 21:58:33 | INFO     | retrieval_pipeline:rerank:23 - Reranking 20 texts\n",
      "2025-02-11 21:58:35 | INFO     | retrieval_pipeline:check_relevance:90 - Relevance metrics - Similarity: 0.824, Term overlap: 1.000\n"
     ]
    }
   ],
   "source": [
    "results = pipeline.search_documents(\"How to create a StatefulWidget?\")"
   ]
  },
  {
   "cell_type": "code",
   "execution_count": 20,
   "metadata": {},
   "outputs": [
    {
     "data": {
      "text/plain": [
       "{'status': 'success',\n",
       " 'confidence': '0.82',\n",
       " 'results': [{'text': 'Fade a widget in and out | Flutterdocs.flutter.dev uses cookies from Google to deliver and enhance the quality of its services and to analyze traffic . Learn more.OK , got it1 . Create a box to fade in and out2 . Define a StatefulWidget3 . Display a button that toggles the visibility4 . Fade the box in and outInteractive example1 . Create a box to ...',\n",
       "   'url': 'https://docs.flutter.dev/cookbook/animation/opacity-animation',\n",
       "   'scores': {'final': 0.928, 'dense': 0.794, 'sparse': 1.0, 'rerank': 1.0}},\n",
       "  {'text': \"const MyApp ( ) ) ; class MyApp extends StatelessWidget { Widget build ( BuildContext context ) { const appTitle = 'Opacity Demo ' ; home : MyHomePage ( title : appTitle ) , // The StatefulWidget 's job is to take data and create a State class . // In this case , the widget takes a title , and creates a _MyHomePageState . class MyHomePage extends S...\",\n",
       "   'url': 'https://docs.flutter.dev/cookbook/animation/opacity-animation',\n",
       "   'scores': {'final': 0.867,\n",
       "    'dense': 0.728,\n",
       "    'sparse': 0.937,\n",
       "    'rerank': 0.944}},\n",
       "  {'text': \"stateless . If a widget can change—when a user interacts with it , for example—it 's stateful.A stateless widget never changes . Icon , IconButton , and Text are examples of stateless widgets . Stateless widgets subclass StatelessWidget.A stateful widget is dynamic : for example , it can change its appearance in response to events triggered by user...\",\n",
       "   'url': 'https://docs.flutter.dev/ui/interactivity',\n",
       "   'scores': {'final': 0.854, 'dense': 1.0, 'sparse': 0.73, 'rerank': 0.79}},\n",
       "  {'text': \"the UI . dartclass _MyStatefulWidgetState extends State < MyStatefulWidget > { toggleState = ! toggleState ; t2 = Timer.periodic ( const Duration ( milliseconds : 1000 ) , ( t ) { Widget build ( BuildContext context ) { 'This execution will be done before you can blink . ' , padding : const EdgeInsets.only ( top : 70 ) , onPressed : toggleBlinkStat...\",\n",
       "   'url': 'https://docs.flutter.dev/get-started/flutter-for/react-native-devs',\n",
       "   'scores': {'final': 0.825,\n",
       "    'dense': 0.917,\n",
       "    'sparse': 0.797,\n",
       "    'rerank': 0.768}},\n",
       "  {'text': 'you are describing does not depend on anything other than the initial configuration information in the widget.For example , with UIKit , this is similar to placing a UIImageView with your logo as the image . If the logo is not changing during runtime , use a StatelessWidget in Flutter.If you want to dynamically change the UI based on data received ...',\n",
       "   'url': 'https://docs.flutter.dev/get-started/flutter-for/uikit-devs',\n",
       "   'scores': {'final': 0.762,\n",
       "    'dense': 0.847,\n",
       "    'sparse': 0.819,\n",
       "    'rerank': 0.685}},\n",
       "  {'text': \"Many built-in widgets are stateless , such as Padding , Text , and Icon . When you create your own widgets , you 'll create Stateless widgets most of the time.On the other hand , if the unique characteristics of a widget need to change based on user interaction or other factors , that widget is stateful . For example , if a widget has a counter tha...\",\n",
       "   'url': 'https://docs.flutter.dev/get-started/fundamentals/widgets',\n",
       "   'scores': {'final': 0.734,\n",
       "    'dense': 0.599,\n",
       "    'sparse': 0.894,\n",
       "    'rerank': 0.781}},\n",
       "  {'text': \"HTTP call or user interaction then you have to work with StatefulWidget and tell the Flutter framework that the widget 's State has been updated so it can update that widget.The important thing to note here is at the core both stateless and stateful widgets behave the same . They rebuild every frame , the difference is the StatefulWidget has a Stat...\",\n",
       "   'url': 'https://docs.flutter.dev/get-started/flutter-for/android-devs',\n",
       "   'scores': {'final': 0.628,\n",
       "    'dense': 0.624,\n",
       "    'sparse': 0.844,\n",
       "    'rerank': 0.566}},\n",
       "  {'text': 'following example shows MyApp , a simple application Widget . dartclass MyApp extends StatelessWidget { /// This widget is the root of your application . Widget build ( BuildContext context ) { textDirection : TextDirection.ltr , } How do you create a page ? # Xamarin.Forms has many types of pages ; ContentPage is the most common . In Flutter , you...',\n",
       "   'url': 'https://docs.flutter.dev/get-started/flutter-for/xamarin-forms-devs',\n",
       "   'scores': {'final': 0.613,\n",
       "    'dense': 0.644,\n",
       "    'sparse': 0.687,\n",
       "    'rerank': 0.57}},\n",
       "  {'text': \"by updating a property , and this is propagated down to the native control.In Flutter , Widgets are immutable and you ca n't directly update them by changing a property , instead you have to work with the widget 's state.This is where the concept of Stateful vs Stateless widgets comes from . A StatelessWidget is just what it sounds like— a widget w...\",\n",
       "   'url': 'https://docs.flutter.dev/get-started/flutter-for/xamarin-forms-devs',\n",
       "   'scores': {'final': 0.449,\n",
       "    'dense': 0.521,\n",
       "    'sparse': 0.827,\n",
       "    'rerank': 0.285}},\n",
       "  {'text': 'widget . class MyCustomForm extends StatefulWidget { const MyCustomForm ( { super.key } ) ; State < MyCustomForm > createState ( ) = > _MyCustomFormState ( ) ; // Define a corresponding State class . // This class holds data related to the Form . class _MyCustomFormState extends State < MyCustomForm > { // Create a text controller and use it to ret...',\n",
       "   'url': 'https://docs.flutter.dev/cookbook/forms/text-field-changes',\n",
       "   'scores': {'final': 0.333,\n",
       "    'dense': 0.549,\n",
       "    'sparse': 0.937,\n",
       "    'rerank': 0.0}}]}"
      ]
     },
     "execution_count": 20,
     "metadata": {},
     "output_type": "execute_result"
    }
   ],
   "source": [
    "results"
   ]
  },
  {
   "cell_type": "code",
   "execution_count": 19,
   "metadata": {},
   "outputs": [
    {
     "data": {
      "text/plain": [
       "'Fade a widget in and out | Flutterdocs.flutter.dev uses cookies from Google to deliver and enhance the quality of its services and to analyze traffic . Learn more.OK , got it1 . Create a box to fade in and out2 . Define a StatefulWidget3 . Display a button that toggles the visibility4 . Fade the box in and outInteractive example1 . Create a box to ...'"
      ]
     },
     "execution_count": 19,
     "metadata": {},
     "output_type": "execute_result"
    }
   ],
   "source": [
    "results['results'][0]['text']"
   ]
  },
  {
   "cell_type": "code",
   "execution_count": null,
   "metadata": {},
   "outputs": [],
   "source": [
    "pip install -e ."
   ]
  },
  {
   "cell_type": "code",
   "execution_count": 22,
   "metadata": {},
   "outputs": [],
   "source": [
    "import asyncio\n",
    "from app.core.enums import DocSource\n",
    "from app.llm import LLMPipeline, ProviderType"
   ]
  },
  {
   "cell_type": "code",
   "execution_count": 24,
   "metadata": {},
   "outputs": [],
   "source": [
    "import asyncio\n",
    "from app.core.enums import DocSource\n",
    "from app.llm import LLMPipeline, ProviderType\n",
    "\n",
    "async def test_pipeline():\n",
    "    # Initialize pipeline\n",
    "    pipeline = LLMPipeline(provider_type=ProviderType.OLLAMA)\n",
    "    \n",
    "    # Check health\n",
    "    health = await pipeline.health_check()\n",
    "    print(\"Health status:\", health)\n",
    "    \n",
    "    # Test query\n",
    "    query = \"How do I create a StatefulWidget?\"\n",
    "    async for chunk in pipeline.process_query(\n",
    "        query=query,\n",
    "        doc_source=DocSource.FLUTTER,\n",
    "        stream=True\n",
    "    ):\n",
    "        print(chunk.text, end=\"\", flush=True)\n",
    "\n"
   ]
  },
  {
   "cell_type": "code",
   "execution_count": 39,
   "metadata": {},
   "outputs": [],
   "source": [
    "import nest_asyncio\n",
    "nest_asyncio.apply()\n",
    "\n",
    "import asyncio\n",
    "from app.core.enums import DocSource\n",
    "from app.llm import LLMPipeline, ProviderType"
   ]
  },
  {
   "cell_type": "code",
   "execution_count": 40,
   "metadata": {},
   "outputs": [],
   "source": [
    "async def test_query(query: str, chat_history: list = None):\n",
    "    \"\"\"Test a single query.\"\"\"\n",
    "    pipeline = LLMPipeline(provider_type=ProviderType.OLLAMA)\n",
    "    \n",
    "    try:\n",
    "        print(f\"Query: {query}\\n\")\n",
    "        async for chunk in pipeline.process_query(\n",
    "            query=query,\n",
    "            chat_history=chat_history,\n",
    "            doc_source=DocSource.FLUTTER,\n",
    "            stream=True\n",
    "        ):\n",
    "            print(chunk.text, end=\"\", flush=True)\n",
    "            if chunk.done:\n",
    "                print(\"\\n\\nResponse complete!\")\n",
    "    except Exception as e:\n",
    "        print(f\"\\nError: {str(e)}\")\n",
    "    finally:\n",
    "        if hasattr(pipeline.provider, 'cleanup'):\n",
    "            await pipeline.provider.cleanup()\n"
   ]
  },
  {
   "cell_type": "code",
   "execution_count": 41,
   "metadata": {},
   "outputs": [
    {
     "name": "stdout",
     "output_type": "stream",
     "text": [
      "Query: How do I create a StatefulWidget?\n",
      "\n",
      "2025-02-11 23:05:28 | ERROR    | retrieval_pipeline:setup:49 - Failed to initialize provider: Provider ollama failed health check\n",
      "2025-02-11 23:05:28 | ERROR    | retrieval_pipeline:process_query:166 - Error in query processing: Provider ollama failed health check\n",
      "An error occurred while processing your query: Provider ollama failed health check\n",
      "\n",
      "Response complete!\n"
     ]
    }
   ],
   "source": [
    "# Example usage\n",
    "chat_history = [\n",
    "    {\n",
    "        \"role\": \"user\",\n",
    "        \"content\": \"I'm new to Flutter development\"\n",
    "    },\n",
    "    {\n",
    "        \"role\": \"assistant\",\n",
    "        \"content\": \"Welcome! I'll help you learn Flutter. What would you like to know?\"\n",
    "    }\n",
    "]\n",
    "\n",
    "# Run test\n",
    "await test_query(\n",
    "    \"How do I create a StatefulWidget?\",\n",
    "    chat_history=chat_history\n",
    ")"
   ]
  },
  {
   "cell_type": "code",
   "execution_count": 46,
   "metadata": {},
   "outputs": [
    {
     "name": "stdout",
     "output_type": "stream",
     "text": [
      "2025-02-11 23:12:10 | ERROR    | retrieval_pipeline:setup:49 - Failed to initialize provider: Provider ollama failed health check\n",
      "2025-02-11 23:12:10 | ERROR    | retrieval_pipeline:health_check:206 - Health check failed: Provider ollama failed health check\n",
      "Health status: {'overall_healthy': False, 'error': 'Provider ollama failed health check'}\n",
      "Pipeline is not healthy. Please check Ollama service.\n"
     ]
    }
   ],
   "source": [
    "import nest_asyncio\n",
    "nest_asyncio.apply()\n",
    "\n",
    "import asyncio\n",
    "from app.core.enums import DocSource\n",
    "from app.llm import LLMPipeline, ProviderType\n",
    "\n",
    "async def test_query(query: str):\n",
    "    \"\"\"Test a single query.\"\"\"\n",
    "    pipeline = LLMPipeline(provider_type=ProviderType.OLLAMA)\n",
    "    \n",
    "    try:\n",
    "        # Check health\n",
    "        health = await pipeline.health_check()\n",
    "        print(\"Health status:\", health)\n",
    "        \n",
    "        if not health.get(\"overall_healthy\", False):\n",
    "            print(\"Pipeline is not healthy. Please check Ollama service.\")\n",
    "            return\n",
    "        \n",
    "        print(f\"\\nProcessing query: {query}\")\n",
    "        \n",
    "        async for chunk in pipeline.process_query(\n",
    "            query=query,\n",
    "            doc_source=DocSource.FLUTTER,\n",
    "            stream=True\n",
    "        ):\n",
    "            print(chunk.text, end=\"\", flush=True)\n",
    "            if chunk.done:\n",
    "                print(\"\\n\\nResponse complete!\")\n",
    "    except Exception as e:\n",
    "        print(f\"\\nError: {str(e)}\")\n",
    "    finally:\n",
    "        if hasattr(pipeline.provider, 'cleanup'):\n",
    "            await pipeline.provider.cleanup()\n",
    "# Example usage\n",
    "await test_query(\"How do I create a StatefulWidget?\")\n"
   ]
  },
  {
   "cell_type": "code",
   "execution_count": 14,
   "metadata": {},
   "outputs": [
    {
     "name": "stdout",
     "output_type": "stream",
     "text": [
      "Starting Pipeline Tests...\n",
      "==================================================\n",
      "\n",
      "Loading Flutter documentation...\n",
      "2025-02-12 15:29:58 | INFO     | retrieval_pipeline:load_source:88 - Loading data for flutter\n",
      "2025-02-12 15:29:58 | INFO     | retrieval_pipeline:load_data:66 - Loading data for flutter from data/flutter_docs\n",
      "2025-02-12 15:29:58 | INFO     | retrieval_pipeline:load_data:100 - Successfully loaded all data for flutter\n",
      "2025-02-12 15:29:58 | INFO     | retrieval_pipeline:load_source:98 - Successfully loaded data for flutter\n",
      "Documentation loaded successfully!\n",
      "\n",
      "=== Test Case 1: Simple Query ===\n",
      "Query: How do I use setState in Flutter?\n",
      "\n",
      "2025-02-12 15:30:11 | INFO     | retrieval_pipeline:rerank:23 - Reranking 20 texts\n",
      "2025-02-12 15:30:13 | INFO     | retrieval_pipeline:check_relevance:90 - Relevance metrics - Similarity: 0.803, Term overlap: 0.308\n",
      "Error in stream 0: 'list' object has no attribute 'messages'\n",
      "\n",
      "Processing Time: 34.17 seconds\n",
      "Response Length: 0 characters\n",
      "\n",
      "All tests completed!\n",
      "\n",
      "==================================================\n"
     ]
    }
   ],
   "source": [
    "import asyncio\n",
    "from datetime import datetime\n",
    "from typing import Dict, Any\n",
    "from IPython.display import display, HTML, clear_output\n",
    "import time\n",
    "\n",
    "# Import pipeline components\n",
    "from app.llm.pipeline.orchestrator import LLMPipeline\n",
    "from app.llm.types import ConversationHistory, Message, MessageRole, LLMConfig\n",
    "from app.core.enums import DocSource\n",
    "from app.retrieval.base import RetrievalPipeline\n",
    "\n",
    "async def test_pipeline():\n",
    "    \"\"\"Test the complete pipeline with different scenarios\"\"\"\n",
    "    \n",
    "    # Initialize retrieval pipeline and load documentation\n",
    "    retrieval_pipeline = RetrievalPipeline()\n",
    "    print(\"Loading Flutter documentation...\")\n",
    "    retrieval_pipeline.load_source(DocSource.FLUTTER)\n",
    "    print(\"Documentation loaded successfully!\")\n",
    "    \n",
    "    # Initialize LLM pipeline with the retrieval pipeline\n",
    "    pipeline = LLMPipeline(retrieval_pipeline=retrieval_pipeline)\n",
    "    \n",
    "    # Sample conversation history\n",
    "    history = ConversationHistory(\n",
    "        messages=[\n",
    "            Message(\n",
    "                role=MessageRole.USER,\n",
    "                content=\"How do I create a StatefulWidget?\"\n",
    "            ),\n",
    "            Message(\n",
    "                role=MessageRole.ASSISTANT,\n",
    "                content=\"A StatefulWidget in Flutter requires two classes: the widget class and the state class...\"\n",
    "            )\n",
    "        ],\n",
    "        max_messages=5\n",
    "    )\n",
    "    \n",
    "    # Test Case 1: Simple Query\n",
    "    print(\"\\n=== Test Case 1: Simple Query ===\")\n",
    "    query = \"How do I use setState in Flutter?\"\n",
    "    print(f\"Query: {query}\\n\")\n",
    "    \n",
    "    response = \"\"\n",
    "    start_time = time.time()\n",
    "    \n",
    "    try:\n",
    "        async for token in pipeline.process_query(history, query):\n",
    "            response += token\n",
    "            clear_output(wait=True)\n",
    "            display_streaming_output(response)\n",
    "            \n",
    "        print(f\"\\nProcessing Time: {time.time() - start_time:.2f} seconds\")\n",
    "        print(f\"Response Length: {len(response)} characters\")\n",
    "        \n",
    "    except Exception as e:\n",
    "        print(f\"Error: {str(e)}\")\n",
    "    \n",
    "    # [Rest of the test cases remain the same...]\n",
    "\n",
    "# Helper function to display streaming output nicely\n",
    "def display_streaming_output(text: str):\n",
    "    display(HTML(f\"<pre style='background-color: #f0f0f0; padding: 10px; border-radius: 5px;'>{text}</pre>\"))\n",
    "\n",
    "# Function to run the test\n",
    "async def run_tests():\n",
    "    print(\"Starting Pipeline Tests...\")\n",
    "    print(\"=\" * 50 + \"\\n\")\n",
    "    \n",
    "    try:\n",
    "        await test_pipeline()\n",
    "        print(\"\\nAll tests completed!\")\n",
    "        \n",
    "    except Exception as e:\n",
    "        print(f\"\\nTest suite error: {str(e)}\")\n",
    "        \n",
    "    print(\"\\n\" + \"=\" * 50)\n",
    "\n",
    "# Run in Jupyter\n",
    "await run_tests()"
   ]
  },
  {
   "cell_type": "code",
   "execution_count": 16,
   "metadata": {},
   "outputs": [
    {
     "name": "stderr",
     "output_type": "stream",
     "text": [
      "2025-02-12 15:40:41,060 - retrieval_pipeline - INFO - Loading data for flutter\n",
      "2025-02-12 15:40:41,063 - retrieval_pipeline - INFO - Loading data for flutter from data/flutter_docs\n",
      "2025-02-12 15:40:41,197 - retrieval_pipeline - INFO - Successfully loaded all data for flutter\n",
      "2025-02-12 15:40:41,271 - retrieval_pipeline - INFO - Successfully loaded data for flutter\n"
     ]
    },
    {
     "name": "stdout",
     "output_type": "stream",
     "text": [
      "2025-02-12 15:40:41 | INFO     | retrieval_pipeline:load_source:88 - Loading data for flutter\n",
      "2025-02-12 15:40:41 | INFO     | retrieval_pipeline:load_data:66 - Loading data for flutter from data/flutter_docs\n",
      "2025-02-12 15:40:41 | INFO     | retrieval_pipeline:load_data:100 - Successfully loaded all data for flutter\n",
      "2025-02-12 15:40:41 | INFO     | retrieval_pipeline:load_source:98 - Successfully loaded data for flutter\n",
      "Starting Pipeline Test Suite...\n",
      "==================================================\n",
      "\n",
      "=== Testing Prompt Analyzer ===\n",
      "\n",
      "Testing simple query:\n",
      "Query: How do I use setState in Flutter?\n",
      "Complexity Score: 18.50\n",
      "Features: {\n",
      "  \"sentence_count\": 1.0,\n",
      "  \"avg_sentence_length\": 7.0,\n",
      "  \"technical_density\": 0.0,\n",
      "  \"flutter_term_density\": 0.25,\n",
      "  \"named_entities\": 0.0,\n",
      "  \"subjectivity\": 0.0,\n",
      "  \"question_complexity\": 0.6,\n",
      "  \"dependency_depth\": 3.0\n",
      "}\n",
      "Recommended Scaling: {'fast_agents': 2, 'deep_agents': 1}\n",
      "Extracted Search Terms: ['flutter', 'setstate']\n",
      "\n",
      "Testing complex query:\n",
      "Query: \n",
      "                I need to implement a custom ScrollController that:\n",
      "                1. Handles infinite scrolling\n",
      "                2. Maintains scroll position\n",
      "                3. Implements smooth animations\n",
      "                4. Handles nested scrolling\n",
      "            \n",
      "Complexity Score: 32.15\n",
      "Features: {\n",
      "  \"sentence_count\": 2.0,\n",
      "  \"avg_sentence_length\": 12.0,\n",
      "  \"technical_density\": 0.03225806451612903,\n",
      "  \"flutter_term_density\": 0.0,\n",
      "  \"named_entities\": 4.0,\n",
      "  \"subjectivity\": 0.5,\n",
      "  \"question_complexity\": 0.5,\n",
      "  \"dependency_depth\": 8.0\n",
      "}\n",
      "Recommended Scaling: {'fast_agents': 2, 'deep_agents': 1}\n",
      "Extracted Search Terms: ['\\n                i', 'implement', 'scrolling', 'a custom scrollcontroller', 'smooth animations', 'scroll position']\n",
      "\n",
      "Testing state_management query:\n",
      "Query: What's the best way to manage state in a large Flutter app?\n",
      "Complexity Score: 24.82\n",
      "Features: {\n",
      "  \"sentence_count\": 1.0,\n",
      "  \"avg_sentence_length\": 12.0,\n",
      "  \"technical_density\": 0.125,\n",
      "  \"flutter_term_density\": 0.125,\n",
      "  \"named_entities\": 0.0,\n",
      "  \"subjectivity\": 0.36428571428571427,\n",
      "  \"question_complexity\": 0.4,\n",
      "  \"dependency_depth\": 7.0\n",
      "}\n",
      "Recommended Scaling: {'fast_agents': 2, 'deep_agents': 1}\n",
      "Extracted Search Terms: ['flutter', 'the best way', 'state', 'a large flutter app']\n",
      "--------------------------------------------------\n",
      "\n",
      "=== Testing Agents ===\n",
      "\n",
      "Testing Fast Analysis Agent:\n"
     ]
    },
    {
     "name": "stderr",
     "output_type": "stream",
     "text": [
      "2025-02-12 15:40:50,145 - httpx - INFO - HTTP Request: POST http://127.0.0.1:11434/api/chat \"HTTP/1.1 200 OK\"\n"
     ]
    },
    {
     "name": "stdout",
     "output_type": "stream",
     "text": [
      "Fast Agent Response:\n",
      "Processing Time: 8.30s\n",
      "Thought: Based on the query \"How do I use setState in Flutter?\", here is a brief analysis of key Flutter concepts, related classes and widgets, implementation requirements, and potential documentation sections...\n",
      "\n",
      "Testing Deep Analysis Agent:\n"
     ]
    },
    {
     "name": "stderr",
     "output_type": "stream",
     "text": [
      "2025-02-12 15:40:51,386 - retrieval_pipeline - INFO - Reranking 20 texts\n"
     ]
    },
    {
     "name": "stdout",
     "output_type": "stream",
     "text": [
      "2025-02-12 15:40:51 | INFO     | retrieval_pipeline:rerank:23 - Reranking 20 texts\n"
     ]
    },
    {
     "name": "stderr",
     "output_type": "stream",
     "text": [
      "2025-02-12 15:40:53,672 - retrieval_pipeline - INFO - Relevance metrics - Similarity: 0.819, Term overlap: 1.000\n"
     ]
    },
    {
     "name": "stdout",
     "output_type": "stream",
     "text": [
      "2025-02-12 15:40:53 | INFO     | retrieval_pipeline:check_relevance:90 - Relevance metrics - Similarity: 0.819, Term overlap: 1.000\n",
      "Error in Deep Agent: Agent db62cfae thinking error: Langchain generation error: \"Input to ChatPromptTemplate is missing variables {' return BottomNavigationBar ( '}.  Expected: [' return BottomNavigationBar ( '] Received: ['text']\\nNote: if you intended { return BottomNavigationBar ( } to be part of the string and not a variable, please escape it with double curly braces like: '{{ return BottomNavigationBar ( }}'.\\nFor troubleshooting, visit: https://python.langchain.com/docs/troubleshooting/errors/INVALID_PROMPT_INPUT \"\n",
      "--------------------------------------------------\n",
      "\n",
      "=== Testing Streaming ===\n",
      "Streaming response for query: How do I use setState in Flutter?\n"
     ]
    },
    {
     "name": "stderr",
     "output_type": "stream",
     "text": [
      "2025-02-12 15:41:02,374 - httpx - INFO - HTTP Request: POST http://127.0.0.1:11434/api/chat \"HTTP/1.1 200 OK\"\n",
      "2025-02-12 15:41:06,795 - httpx - INFO - HTTP Request: POST http://127.0.0.1:11434/api/chat \"HTTP/1.1 200 OK\"\n",
      "2025-02-12 15:41:07,369 - retrieval_pipeline - INFO - Reranking 20 texts\n"
     ]
    },
    {
     "name": "stdout",
     "output_type": "stream",
     "text": [
      "2025-02-12 15:41:07 | INFO     | retrieval_pipeline:rerank:23 - Reranking 20 texts\n"
     ]
    },
    {
     "name": "stderr",
     "output_type": "stream",
     "text": [
      "2025-02-12 15:41:08,631 - retrieval_pipeline - INFO - Relevance metrics - Similarity: 0.790, Term overlap: 0.250\n"
     ]
    },
    {
     "name": "stdout",
     "output_type": "stream",
     "text": [
      "2025-02-12 15:41:08 | INFO     | retrieval_pipeline:check_relevance:90 - Relevance metrics - Similarity: 0.790, Term overlap: 0.250\n"
     ]
    },
    {
     "name": "stderr",
     "output_type": "stream",
     "text": [
      "2025-02-12 15:41:13,624 - httpx - INFO - HTTP Request: POST http://127.0.0.1:11434/api/chat \"HTTP/1.1 200 OK\"\n",
      "2025-02-12 15:41:17,723 - httpx - INFO - HTTP Request: POST http://127.0.0.1:11434/api/chat \"HTTP/1.1 200 OK\"\n",
      "2025-02-12 15:41:22,293 - httpx - INFO - HTTP Request: POST http://127.0.0.1:11434/api/chat \"HTTP/1.1 200 OK\"\n",
      "2025-02-12 15:41:26,616 - httpx - INFO - HTTP Request: POST http://127.0.0.1:11434/api/chat \"HTTP/1.1 200 OK\"\n"
     ]
    },
    {
     "name": "stdout",
     "output_type": "stream",
     "text": [
      "Error in stream 0: 'list' object has no attribute 'messages'\n",
      "\n",
      "Total response length: 0\n",
      "--------------------------------------------------\n",
      "\n",
      "=== Testing Context Handling ===\n",
      "Processing context-aware query:\n",
      "Query: What's the best way to manage state in a large Flutter app?\n",
      "Context: {\n",
      "  \"framework_version\": \"Flutter 3.0\",\n",
      "  \"project_type\": \"E-commerce app\",\n",
      "  \"requirements\": {\n",
      "    \"state_management\": \"complex\",\n",
      "    \"performance_critical\": true,\n",
      "    \"offline_support\": true\n",
      "  }\n",
      "}\n"
     ]
    },
    {
     "name": "stderr",
     "output_type": "stream",
     "text": [
      "2025-02-12 15:41:27,018 - retrieval_pipeline - INFO - Reranking 20 texts\n"
     ]
    },
    {
     "name": "stdout",
     "output_type": "stream",
     "text": [
      "2025-02-12 15:41:27 | INFO     | retrieval_pipeline:rerank:23 - Reranking 20 texts\n"
     ]
    },
    {
     "name": "stderr",
     "output_type": "stream",
     "text": [
      "2025-02-12 15:41:28,594 - retrieval_pipeline - INFO - Relevance metrics - Similarity: 0.808, Term overlap: 0.237\n"
     ]
    },
    {
     "name": "stdout",
     "output_type": "stream",
     "text": [
      "2025-02-12 15:41:28 | INFO     | retrieval_pipeline:check_relevance:90 - Relevance metrics - Similarity: 0.808, Term overlap: 0.237\n"
     ]
    },
    {
     "name": "stderr",
     "output_type": "stream",
     "text": [
      "2025-02-12 15:41:34,539 - httpx - INFO - HTTP Request: POST http://127.0.0.1:11434/api/chat \"HTTP/1.1 200 OK\"\n",
      "2025-02-12 15:41:38,890 - httpx - INFO - HTTP Request: POST http://127.0.0.1:11434/api/chat \"HTTP/1.1 200 OK\"\n"
     ]
    },
    {
     "name": "stdout",
     "output_type": "stream",
     "text": [
      "Error in context handling: Error generating response: 'results'\n",
      "--------------------------------------------------\n",
      "\n",
      "=== Testing Full Pipeline Integration ===\n",
      "\n",
      "Testing simple query pipeline:\n",
      "Query: How do I use setState in Flutter?\n"
     ]
    },
    {
     "name": "stderr",
     "output_type": "stream",
     "text": [
      "2025-02-12 15:41:43,803 - httpx - INFO - HTTP Request: POST http://127.0.0.1:11434/api/chat \"HTTP/1.1 200 OK\"\n",
      "2025-02-12 15:41:48,236 - httpx - INFO - HTTP Request: POST http://127.0.0.1:11434/api/chat \"HTTP/1.1 200 OK\"\n",
      "2025-02-12 15:41:48,785 - retrieval_pipeline - INFO - Reranking 20 texts\n"
     ]
    },
    {
     "name": "stdout",
     "output_type": "stream",
     "text": [
      "2025-02-12 15:41:48 | INFO     | retrieval_pipeline:rerank:23 - Reranking 20 texts\n"
     ]
    },
    {
     "name": "stderr",
     "output_type": "stream",
     "text": [
      "2025-02-12 15:41:50,092 - retrieval_pipeline - INFO - Relevance metrics - Similarity: 0.798, Term overlap: 0.250\n"
     ]
    },
    {
     "name": "stdout",
     "output_type": "stream",
     "text": [
      "2025-02-12 15:41:50 | INFO     | retrieval_pipeline:check_relevance:90 - Relevance metrics - Similarity: 0.798, Term overlap: 0.250\n"
     ]
    },
    {
     "name": "stderr",
     "output_type": "stream",
     "text": [
      "2025-02-12 15:41:55,175 - httpx - INFO - HTTP Request: POST http://127.0.0.1:11434/api/chat \"HTTP/1.1 200 OK\"\n",
      "2025-02-12 15:41:59,740 - httpx - INFO - HTTP Request: POST http://127.0.0.1:11434/api/chat \"HTTP/1.1 200 OK\"\n",
      "2025-02-12 15:42:04,401 - httpx - INFO - HTTP Request: POST http://127.0.0.1:11434/api/chat \"HTTP/1.1 200 OK\"\n",
      "2025-02-12 15:42:08,730 - httpx - INFO - HTTP Request: POST http://127.0.0.1:11434/api/chat \"HTTP/1.1 200 OK\"\n"
     ]
    },
    {
     "name": "stdout",
     "output_type": "stream",
     "text": [
      "Error in stream 0: 'list' object has no attribute 'messages'\n",
      "\n",
      "Processing Time: 29.85s\n",
      "Response Length: 0\n",
      "\n",
      "Testing complex query pipeline:\n",
      "Query: \n",
      "                I need to implement a custom ScrollController that:\n",
      "                1. Handles infinite scrolling\n",
      "                2. Maintains scroll position\n",
      "                3. Implements smooth animations\n",
      "                4. Handles nested scrolling\n",
      "            \n"
     ]
    },
    {
     "name": "stderr",
     "output_type": "stream",
     "text": [
      "2025-02-12 15:42:13,805 - httpx - INFO - HTTP Request: POST http://127.0.0.1:11434/api/chat \"HTTP/1.1 200 OK\"\n",
      "2025-02-12 15:42:18,238 - httpx - INFO - HTTP Request: POST http://127.0.0.1:11434/api/chat \"HTTP/1.1 200 OK\"\n",
      "2025-02-12 15:42:18,779 - retrieval_pipeline - INFO - Reranking 20 texts\n"
     ]
    },
    {
     "name": "stdout",
     "output_type": "stream",
     "text": [
      "2025-02-12 15:42:18 | INFO     | retrieval_pipeline:rerank:23 - Reranking 20 texts\n"
     ]
    },
    {
     "name": "stderr",
     "output_type": "stream",
     "text": [
      "2025-02-12 15:42:20,165 - retrieval_pipeline - INFO - Relevance metrics - Similarity: 0.815, Term overlap: 0.216\n"
     ]
    },
    {
     "name": "stdout",
     "output_type": "stream",
     "text": [
      "2025-02-12 15:42:20 | INFO     | retrieval_pipeline:check_relevance:90 - Relevance metrics - Similarity: 0.815, Term overlap: 0.216\n"
     ]
    },
    {
     "name": "stderr",
     "output_type": "stream",
     "text": [
      "2025-02-12 15:42:24,886 - httpx - INFO - HTTP Request: POST http://127.0.0.1:11434/api/chat \"HTTP/1.1 200 OK\"\n",
      "2025-02-12 15:42:28,671 - httpx - INFO - HTTP Request: POST http://127.0.0.1:11434/api/chat \"HTTP/1.1 200 OK\"\n",
      "2025-02-12 15:42:33,618 - httpx - INFO - HTTP Request: POST http://127.0.0.1:11434/api/chat \"HTTP/1.1 200 OK\"\n",
      "2025-02-12 15:42:38,017 - httpx - INFO - HTTP Request: POST http://127.0.0.1:11434/api/chat \"HTTP/1.1 200 OK\"\n"
     ]
    },
    {
     "name": "stdout",
     "output_type": "stream",
     "text": [
      "Error in pipeline: Error generating response: 'results'Error in pipeline for complex query: Error generating response: 'results'\n",
      "\n",
      "Testing state_management query pipeline:\n",
      "Query: What's the best way to manage state in a large Flutter app?\n"
     ]
    },
    {
     "name": "stderr",
     "output_type": "stream",
     "text": [
      "2025-02-12 15:42:42,956 - httpx - INFO - HTTP Request: POST http://127.0.0.1:11434/api/chat \"HTTP/1.1 200 OK\"\n",
      "2025-02-12 15:42:47,329 - httpx - INFO - HTTP Request: POST http://127.0.0.1:11434/api/chat \"HTTP/1.1 200 OK\"\n",
      "2025-02-12 15:42:47,788 - retrieval_pipeline - INFO - Reranking 20 texts\n"
     ]
    },
    {
     "name": "stdout",
     "output_type": "stream",
     "text": [
      "2025-02-12 15:42:47 | INFO     | retrieval_pipeline:rerank:23 - Reranking 20 texts\n"
     ]
    },
    {
     "name": "stderr",
     "output_type": "stream",
     "text": [
      "2025-02-12 15:42:49,082 - retrieval_pipeline - INFO - Relevance metrics - Similarity: 0.799, Term overlap: 0.333\n"
     ]
    },
    {
     "name": "stdout",
     "output_type": "stream",
     "text": [
      "2025-02-12 15:42:49 | INFO     | retrieval_pipeline:check_relevance:90 - Relevance metrics - Similarity: 0.799, Term overlap: 0.333\n"
     ]
    },
    {
     "name": "stderr",
     "output_type": "stream",
     "text": [
      "2025-02-12 15:42:53,979 - httpx - INFO - HTTP Request: POST http://127.0.0.1:11434/api/chat \"HTTP/1.1 200 OK\"\n",
      "2025-02-12 15:42:58,758 - httpx - INFO - HTTP Request: POST http://127.0.0.1:11434/api/chat \"HTTP/1.1 200 OK\"\n",
      "2025-02-12 15:43:03,698 - httpx - INFO - HTTP Request: POST http://127.0.0.1:11434/api/chat \"HTTP/1.1 200 OK\"\n",
      "2025-02-12 15:43:08,045 - httpx - INFO - HTTP Request: POST http://127.0.0.1:11434/api/chat \"HTTP/1.1 200 OK\"\n"
     ]
    },
    {
     "name": "stdout",
     "output_type": "stream",
     "text": [
      "Error in stream 0: 'list' object has no attribute 'messages'\n",
      "\n",
      "Processing Time: 30.03s\n",
      "Response Length: 0\n",
      "--------------------------------------------------\n",
      "\n",
      "Test Suite Completed!\n",
      "==================================================\n"
     ]
    }
   ],
   "source": [
    "import asyncio\n",
    "import json\n",
    "import logging\n",
    "from datetime import datetime\n",
    "from typing import Dict, Any\n",
    "from IPython.display import display, HTML, clear_output\n",
    "import time\n",
    "\n",
    "# Set up logging\n",
    "logging.basicConfig(\n",
    "    level=logging.INFO,\n",
    "    format='%(asctime)s - %(name)s - %(levelname)s - %(message)s'\n",
    ")\n",
    "logger = logging.getLogger(__name__)\n",
    "\n",
    "# Import components\n",
    "from app.llm.pipeline.orchestrator import LLMPipeline\n",
    "from app.llm.types import ConversationHistory, Message, MessageRole, LLMConfig\n",
    "from app.core.enums import DocSource\n",
    "from app.retrieval.base import RetrievalPipeline\n",
    "from app.llm.prompt.analyzer import PromptAnalyzer\n",
    "from app.llm.prompt.constructor import PromptConstructor\n",
    "from app.llm.agents.fast import FastAnalysisAgent\n",
    "from app.llm.agents.deep import DeepAnalysisAgent\n",
    "from app.llm.agents.manager import AgentManager\n",
    "\n",
    "class PipelineTestSuite:\n",
    "    \"\"\"Test suite for pipeline components and integration\"\"\"\n",
    "    \n",
    "    def __init__(self):\n",
    "        self.retrieval_pipeline = RetrievalPipeline()\n",
    "        self.retrieval_pipeline.load_source(DocSource.FLUTTER)\n",
    "        self.pipeline = LLMPipeline(retrieval_pipeline=self.retrieval_pipeline)\n",
    "        \n",
    "        # Test conversation history\n",
    "        self.history = ConversationHistory(\n",
    "            messages=[\n",
    "                Message(\n",
    "                    role=MessageRole.USER,\n",
    "                    content=\"How do I create a StatefulWidget?\"\n",
    "                ),\n",
    "                Message(\n",
    "                    role=MessageRole.ASSISTANT,\n",
    "                    content=\"A StatefulWidget requires two classes...\"\n",
    "                )\n",
    "            ],\n",
    "            max_messages=5\n",
    "        )\n",
    "        \n",
    "        self.test_queries = {\n",
    "            \"simple\": \"How do I use setState in Flutter?\",\n",
    "            \"complex\": \"\"\"\n",
    "                I need to implement a custom ScrollController that:\n",
    "                1. Handles infinite scrolling\n",
    "                2. Maintains scroll position\n",
    "                3. Implements smooth animations\n",
    "                4. Handles nested scrolling\n",
    "            \"\"\",\n",
    "            \"state_management\": \"What's the best way to manage state in a large Flutter app?\"\n",
    "        }\n",
    "    \n",
    "    async def test_prompt_analyzer(self):\n",
    "        \"\"\"Test the prompt analyzer component\"\"\"\n",
    "        print(\"\\n=== Testing Prompt Analyzer ===\")\n",
    "        analyzer = PromptAnalyzer()\n",
    "        \n",
    "        for query_type, query in self.test_queries.items():\n",
    "            print(f\"\\nTesting {query_type} query:\")\n",
    "            print(f\"Query: {query}\")\n",
    "            \n",
    "            try:\n",
    "                analysis = await analyzer.analyze_complexity(query)\n",
    "                print(f\"Complexity Score: {analysis.complexity_score:.2f}\")\n",
    "                print(f\"Features: {json.dumps(analysis.features, indent=2)}\")\n",
    "                print(f\"Recommended Scaling: {analysis.recommended_scaling}\")\n",
    "                \n",
    "                search_terms = await analyzer.extract_search_terms(query)\n",
    "                print(f\"Extracted Search Terms: {search_terms}\")\n",
    "                \n",
    "            except Exception as e:\n",
    "                print(f\"Error analyzing {query_type} query: {str(e)}\")\n",
    "    \n",
    "    async def test_agents(self):\n",
    "        \"\"\"Test individual agents\"\"\"\n",
    "        print(\"\\n=== Testing Agents ===\")\n",
    "        \n",
    "        # Test Fast Analysis Agent\n",
    "        print(\"\\nTesting Fast Analysis Agent:\")\n",
    "        fast_agent = FastAnalysisAgent()\n",
    "        query = self.test_queries[\"simple\"]\n",
    "        \n",
    "        try:\n",
    "            response = await fast_agent.analyze_query(query)\n",
    "            print(f\"Fast Agent Response:\")\n",
    "            print(f\"Processing Time: {response.processing_time:.2f}s\")\n",
    "            print(f\"Thought: {response.thought[:200]}...\")\n",
    "        except Exception as e:\n",
    "            print(f\"Error in Fast Agent: {str(e)}\")\n",
    "        \n",
    "        # Test Deep Analysis Agent\n",
    "        print(\"\\nTesting Deep Analysis Agent:\")\n",
    "        deep_agent = DeepAnalysisAgent()\n",
    "        docs = self.retrieval_pipeline.search_documents(query)\n",
    "        \n",
    "        try:\n",
    "            response = await deep_agent.analyze_implementation(\n",
    "                query=query,\n",
    "                docs=docs['results']\n",
    "            )\n",
    "            print(f\"Deep Agent Response:\")\n",
    "            print(f\"Processing Time: {response.processing_time:.2f}s\")\n",
    "            print(f\"Thought: {response.thought[:200]}...\")\n",
    "        except Exception as e:\n",
    "            print(f\"Error in Deep Agent: {str(e)}\")\n",
    "    \n",
    "    async def test_streaming(self):\n",
    "        \"\"\"Test streaming functionality\"\"\"\n",
    "        print(\"\\n=== Testing Streaming ===\")\n",
    "        query = self.test_queries[\"simple\"]\n",
    "        \n",
    "        try:\n",
    "            print(f\"Streaming response for query: {query}\")\n",
    "            response = \"\"\n",
    "            async for token in self.pipeline.process_streaming_query(\n",
    "                history=self.history,\n",
    "                query=query,\n",
    "                chunk_size=50\n",
    "            ):\n",
    "                response += token\n",
    "                print(token, end='', flush=True)\n",
    "            \n",
    "            print(f\"\\nTotal response length: {len(response)}\")\n",
    "        except Exception as e:\n",
    "            print(f\"Error in streaming: {str(e)}\")\n",
    "    \n",
    "    async def test_context_handling(self):\n",
    "        \"\"\"Test context-aware processing\"\"\"\n",
    "        print(\"\\n=== Testing Context Handling ===\")\n",
    "        query = self.test_queries[\"state_management\"]\n",
    "        context = {\n",
    "            \"framework_version\": \"Flutter 3.0\",\n",
    "            \"project_type\": \"E-commerce app\",\n",
    "            \"requirements\": {\n",
    "                \"state_management\": \"complex\",\n",
    "                \"performance_critical\": True,\n",
    "                \"offline_support\": True\n",
    "            }\n",
    "        }\n",
    "        \n",
    "        try:\n",
    "            print(f\"Processing context-aware query:\")\n",
    "            print(f\"Query: {query}\")\n",
    "            print(f\"Context: {json.dumps(context, indent=2)}\")\n",
    "            \n",
    "            response = \"\"\n",
    "            async for token in self.pipeline.process_query_with_context(\n",
    "                history=self.history,\n",
    "                query=query,\n",
    "                context=context\n",
    "            ):\n",
    "                response += token\n",
    "                print(token, end='', flush=True)\n",
    "            \n",
    "            print(f\"\\nTotal response length: {len(response)}\")\n",
    "        except Exception as e:\n",
    "            print(f\"Error in context handling: {str(e)}\")\n",
    "    \n",
    "    async def test_full_pipeline(self):\n",
    "        \"\"\"Test complete pipeline integration\"\"\"\n",
    "        print(\"\\n=== Testing Full Pipeline Integration ===\")\n",
    "        \n",
    "        for query_type, query in self.test_queries.items():\n",
    "            print(f\"\\nTesting {query_type} query pipeline:\")\n",
    "            print(f\"Query: {query}\")\n",
    "            \n",
    "            try:\n",
    "                start_time = time.time()\n",
    "                response = \"\"\n",
    "                \n",
    "                async for token in self.pipeline.process_query(\n",
    "                    history=self.history,\n",
    "                    query=query\n",
    "                ):\n",
    "                    response += token\n",
    "                    print(token, end='', flush=True)\n",
    "                \n",
    "                processing_time = time.time() - start_time\n",
    "                print(f\"\\nProcessing Time: {processing_time:.2f}s\")\n",
    "                print(f\"Response Length: {len(response)}\")\n",
    "                \n",
    "            except Exception as e:\n",
    "                print(f\"Error in pipeline for {query_type} query: {str(e)}\")\n",
    "    \n",
    "    async def run_all_tests(self):\n",
    "        \"\"\"Run all test cases\"\"\"\n",
    "        test_functions = [\n",
    "            self.test_prompt_analyzer,\n",
    "            self.test_agents,\n",
    "            self.test_streaming,\n",
    "            self.test_context_handling,\n",
    "            self.test_full_pipeline\n",
    "        ]\n",
    "        \n",
    "        print(\"Starting Pipeline Test Suite...\")\n",
    "        print(\"=\" * 50)\n",
    "        \n",
    "        for test_func in test_functions:\n",
    "            try:\n",
    "                await test_func()\n",
    "                print(\"-\" * 50)\n",
    "            except Exception as e:\n",
    "                print(f\"Error in {test_func.__name__}: {str(e)}\")\n",
    "        \n",
    "        print(\"\\nTest Suite Completed!\")\n",
    "        print(\"=\" * 50)\n",
    "\n",
    "# Helper function for Jupyter display\n",
    "def display_output(text: str):\n",
    "    display(HTML(f\"<pre style='background-color: #f0f0f0; padding: 10px; border-radius: 5px;'>{text}</pre>\"))\n",
    "\n",
    "# Run tests\n",
    "async def run_tests():\n",
    "    test_suite = PipelineTestSuite()\n",
    "    await test_suite.run_all_tests()\n",
    "\n",
    "# Execute in Jupyter\n",
    "await run_tests()"
   ]
  }
 ],
 "metadata": {
  "kernelspec": {
   "display_name": "nextjs",
   "language": "python",
   "name": "python3"
  },
  "language_info": {
   "codemirror_mode": {
    "name": "ipython",
    "version": 3
   },
   "file_extension": ".py",
   "mimetype": "text/x-python",
   "name": "python",
   "nbconvert_exporter": "python",
   "pygments_lexer": "ipython3",
   "version": "3.9.21"
  }
 },
 "nbformat": 4,
 "nbformat_minor": 2
}
