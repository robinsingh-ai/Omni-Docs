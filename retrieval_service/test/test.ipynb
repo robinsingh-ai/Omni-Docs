{
 "cells": [
  {
   "cell_type": "code",
   "execution_count": 1,
   "metadata": {},
   "outputs": [],
   "source": [
    "import sys\n",
    "from pathlib import Path"
   ]
  },
  {
   "cell_type": "code",
   "execution_count": 2,
   "metadata": {},
   "outputs": [],
   "source": [
    "project_root = Path.cwd().parent  # Assuming notebook is in project_root/notebooks/\n",
    "sys.path.append(str(project_root))"
   ]
  },
  {
   "cell_type": "code",
   "execution_count": 3,
   "metadata": {},
   "outputs": [
    {
     "name": "stdout",
     "output_type": "stream",
     "text": [
      "Added /Users/robinsingh/Desktop/LLM_GEN_AI /api-docs-ai/retrieval_service to Python path\n",
      "\n",
      "Current Python path:\n",
      "- /Users/robinsingh/miniconda3/envs/nextjs/lib/python39.zip\n",
      "- /Users/robinsingh/miniconda3/envs/nextjs/lib/python3.9\n",
      "- /Users/robinsingh/miniconda3/envs/nextjs/lib/python3.9/lib-dynload\n",
      "- \n",
      "- /Users/robinsingh/miniconda3/envs/nextjs/lib/python3.9/site-packages\n",
      "- /Users/robinsingh/Desktop/LLM_GEN_AI /api-docs-ai/retrieval_service\n"
     ]
    }
   ],
   "source": [
    "print(f\"Added {project_root} to Python path\")\n",
    "print(\"\\nCurrent Python path:\")\n",
    "for p in sys.path:\n",
    "    print(f\"- {p}\")\n"
   ]
  },
  {
   "cell_type": "code",
   "execution_count": 3,
   "metadata": {},
   "outputs": [],
   "source": [
    "from app.core.enums import  DocSource"
   ]
  },
  {
   "cell_type": "code",
   "execution_count": 21,
   "metadata": {},
   "outputs": [],
   "source": [
    "from app.retrieval.embeddings.dense import DenseEmbedder  # Adjust the import path as needed"
   ]
  },
  {
   "cell_type": "code",
   "execution_count": 4,
   "metadata": {},
   "outputs": [
    {
     "name": "stdout",
     "output_type": "stream",
     "text": [
      "Using device: mps\n"
     ]
    }
   ],
   "source": [
    "from app.retrieval.base import RetrievalPipeline"
   ]
  },
  {
   "cell_type": "code",
   "execution_count": 5,
   "metadata": {},
   "outputs": [
    {
     "name": "stdout",
     "output_type": "stream",
     "text": [
      "\n",
      "Imports successful!\n"
     ]
    }
   ],
   "source": [
    "# Second cell - Test imports\n",
    "try:\n",
    "    from app.core.enums import DocSource\n",
    "    from app.retrieval.base import RetrievalPipeline\n",
    "    print(\"\\nImports successful!\")\n",
    "except ImportError as e:\n",
    "    print(f\"\\nImport error: {str(e)}\")\n",
    "    print(\"\\nMake sure your directory structure is correct:\")\n",
    "    print(\"\"\"\n",
    "    project_root/\n",
    "    ├── app/\n",
    "    │   ├── __init__.py\n",
    "    │   ├── core/\n",
    "    │   │   ├── __init__.py\n",
    "    │   │   └── enums.py\n",
    "    │   └── retrieval/\n",
    "    │       ├── __init__.py\n",
    "    │       └── base.py\n",
    "    └── notebooks/\n",
    "        └── test_pipeline.ipynb\n",
    "    \"\"\")"
   ]
  },
  {
   "cell_type": "code",
   "execution_count": 7,
   "metadata": {},
   "outputs": [
    {
     "name": "stdout",
     "output_type": "stream",
     "text": [
      "Pipeline initialized successfully!\n"
     ]
    }
   ],
   "source": [
    "# Third cell - Initialize pipeline\n",
    "pipeline = RetrievalPipeline()\n",
    "print(\"Pipeline initialized successfully!\")"
   ]
  },
  {
   "cell_type": "code",
   "execution_count": 8,
   "metadata": {},
   "outputs": [
    {
     "name": "stdout",
     "output_type": "stream",
     "text": [
      "Processing Flutter documentation...\n",
      "2025-02-11 19:57:19 | INFO     | retrieval_pipeline:process_documents:34 - Processing documents for flutter\n",
      "2025-02-11 19:57:19 | INFO     | retrieval_pipeline:clear_data:137 - Cleared all data for flutter\n",
      "2025-02-11 19:57:19 | INFO     | retrieval_pipeline:fetch_sitemap:24 - Fetching sitemap from https://docs.flutter.dev/sitemap.xml\n",
      "2025-02-11 19:57:19 | INFO     | retrieval_pipeline:fetch_sitemap:31 - Found 564 URLs in sitemap\n"
     ]
    },
    {
     "name": "stderr",
     "output_type": "stream",
     "text": [
      "Fetching URLs: 100%|██████████| 564/564 [03:32<00:00,  2.65it/s]\n"
     ]
    },
    {
     "name": "stdout",
     "output_type": "stream",
     "text": [
      "2025-02-11 20:00:52 | INFO     | retrieval_pipeline:fetch_all_contents:76 - Successfully fetched 564 out of 564 URLs\n",
      "2025-02-11 20:00:57 | INFO     | retrieval_pipeline:chunk_documents:56 - Generated 5815 chunks from 564 documents\n",
      "2025-02-11 20:00:57 | INFO     | retrieval_pipeline:embed_texts:29 - Generating dense embeddings for 5815 texts\n"
     ]
    },
    {
     "name": "stderr",
     "output_type": "stream",
     "text": [
      "Generating dense embeddings: 100%|██████████| 5815/5815 [12:06<00:00,  8.00it/s]\n"
     ]
    },
    {
     "name": "stdout",
     "output_type": "stream",
     "text": [
      "2025-02-11 20:13:04 | INFO     | retrieval_pipeline:build_index:60 - Building FAISS index...\n",
      "2025-02-11 20:13:04 | INFO     | retrieval_pipeline:build_index:63 - FAISS index built successfully\n",
      "2025-02-11 20:13:04 | INFO     | retrieval_pipeline:embed_texts:24 - Generating sparse embeddings for 5815 texts\n"
     ]
    },
    {
     "name": "stderr",
     "output_type": "stream",
     "text": [
      "Generating sparse embeddings: 100%|██████████| 5815/5815 [16:35<00:00,  5.84it/s]\n"
     ]
    },
    {
     "name": "stdout",
     "output_type": "stream",
     "text": [
      "2025-02-11 20:29:39 | INFO     | retrieval_pipeline:save_data:36 - Saving data for flutter to data/flutter_docs\n",
      "2025-02-11 20:29:42 | INFO     | retrieval_pipeline:save_data:56 - Successfully saved all data for flutter\n",
      "2025-02-11 20:29:42 | INFO     | retrieval_pipeline:process_documents:73 - Successfully processed documents for flutter\n"
     ]
    }
   ],
   "source": [
    "# Fourth cell - Process Flutter docs\n",
    "print(\"Processing Flutter documentation...\")\n",
    "pipeline.process_documents(DocSource.FLUTTER)"
   ]
  },
  {
   "cell_type": "code",
   "execution_count": 9,
   "metadata": {},
   "outputs": [
    {
     "name": "stdout",
     "output_type": "stream",
     "text": [
      "2025-02-11 20:30:03 | INFO     | retrieval_pipeline:load_source:87 - Loading data for flutter\n",
      "2025-02-11 20:30:03 | INFO     | retrieval_pipeline:load_data:66 - Loading data for flutter from data/flutter_docs\n",
      "2025-02-11 20:30:03 | INFO     | retrieval_pipeline:load_data:100 - Successfully loaded all data for flutter\n",
      "2025-02-11 20:30:03 | INFO     | retrieval_pipeline:load_source:97 - Successfully loaded data for flutter\n",
      "\n",
      "Flutter Documentation Stats:\n",
      "- Total chunks: 5815\n",
      "- Total URLs: 564\n",
      "- Device: mps\n"
     ]
    }
   ],
   "source": [
    "pipeline.load_source(DocSource.FLUTTER)\n",
    "stats = pipeline.get_source_stats()\n",
    "print(\"\\nFlutter Documentation Stats:\")\n",
    "print(f\"- Total chunks: {stats['total_chunks']}\")\n",
    "print(f\"- Total URLs: {stats['total_urls']}\")\n",
    "print(f\"- Device: {stats['device']}\")"
   ]
  },
  {
   "cell_type": "code",
   "execution_count": 10,
   "metadata": {},
   "outputs": [],
   "source": [
    "# Fifth cell - Test search\n",
    "def test_search(query: str):\n",
    "    print(f\"Searching for: {query}\\n\")\n",
    "    results = pipeline.search_documents(query)\n",
    "    \n",
    "    print(f\"Status: {results['status']}\")\n",
    "    print(f\"Confidence: {results['confidence']}\\n\")\n",
    "    \n",
    "    if results['status'] == 'success':\n",
    "        for i, result in enumerate(results['results'][:3], 1):\n",
    "            print(f\"Result {i}:\")\n",
    "            print(f\"URL: {result['url']}\")\n",
    "            print(f\"Text: {result['text'][:200]}...\")\n",
    "            print(f\"Scores: {result['scores']}\\n\")"
   ]
  },
  {
   "cell_type": "code",
   "execution_count": 11,
   "metadata": {},
   "outputs": [
    {
     "name": "stdout",
     "output_type": "stream",
     "text": [
      "Searching for: How to create a StatefulWidget?\n",
      "\n",
      "2025-02-11 20:30:43 | ERROR    | retrieval_pipeline:search:108 - Error in hybrid search: 'HybridSearch' object has no attribute 'rerank'\n",
      "2025-02-11 20:30:43 | ERROR    | retrieval_pipeline:search_documents:151 - Error searching documents: 'HybridSearch' object has no attribute 'rerank'\n"
     ]
    },
    {
     "ename": "AttributeError",
     "evalue": "'HybridSearch' object has no attribute 'rerank'",
     "output_type": "error",
     "traceback": [
      "\u001b[0;31m---------------------------------------------------------------------------\u001b[0m",
      "\u001b[0;31mAttributeError\u001b[0m                            Traceback (most recent call last)",
      "Cell \u001b[0;32mIn[11], line 1\u001b[0m\n\u001b[0;32m----> 1\u001b[0m \u001b[43mtest_search\u001b[49m\u001b[43m(\u001b[49m\u001b[38;5;124;43m\"\u001b[39;49m\u001b[38;5;124;43mHow to create a StatefulWidget?\u001b[39;49m\u001b[38;5;124;43m\"\u001b[39;49m\u001b[43m)\u001b[49m\n",
      "Cell \u001b[0;32mIn[10], line 4\u001b[0m, in \u001b[0;36mtest_search\u001b[0;34m(query)\u001b[0m\n\u001b[1;32m      2\u001b[0m \u001b[38;5;28;01mdef\u001b[39;00m\u001b[38;5;250m \u001b[39m\u001b[38;5;21mtest_search\u001b[39m(query: \u001b[38;5;28mstr\u001b[39m):\n\u001b[1;32m      3\u001b[0m     \u001b[38;5;28mprint\u001b[39m(\u001b[38;5;124mf\u001b[39m\u001b[38;5;124m\"\u001b[39m\u001b[38;5;124mSearching for: \u001b[39m\u001b[38;5;132;01m{\u001b[39;00mquery\u001b[38;5;132;01m}\u001b[39;00m\u001b[38;5;130;01m\\n\u001b[39;00m\u001b[38;5;124m\"\u001b[39m)\n\u001b[0;32m----> 4\u001b[0m     results \u001b[38;5;241m=\u001b[39m \u001b[43mpipeline\u001b[49m\u001b[38;5;241;43m.\u001b[39;49m\u001b[43msearch_documents\u001b[49m\u001b[43m(\u001b[49m\u001b[43mquery\u001b[49m\u001b[43m)\u001b[49m\n\u001b[1;32m      6\u001b[0m     \u001b[38;5;28mprint\u001b[39m(\u001b[38;5;124mf\u001b[39m\u001b[38;5;124m\"\u001b[39m\u001b[38;5;124mStatus: \u001b[39m\u001b[38;5;132;01m{\u001b[39;00mresults[\u001b[38;5;124m'\u001b[39m\u001b[38;5;124mstatus\u001b[39m\u001b[38;5;124m'\u001b[39m]\u001b[38;5;132;01m}\u001b[39;00m\u001b[38;5;124m\"\u001b[39m)\n\u001b[1;32m      7\u001b[0m     \u001b[38;5;28mprint\u001b[39m(\u001b[38;5;124mf\u001b[39m\u001b[38;5;124m\"\u001b[39m\u001b[38;5;124mConfidence: \u001b[39m\u001b[38;5;132;01m{\u001b[39;00mresults[\u001b[38;5;124m'\u001b[39m\u001b[38;5;124mconfidence\u001b[39m\u001b[38;5;124m'\u001b[39m]\u001b[38;5;132;01m}\u001b[39;00m\u001b[38;5;130;01m\\n\u001b[39;00m\u001b[38;5;124m\"\u001b[39m)\n",
      "File \u001b[0;32m~/Desktop/LLM_GEN_AI /api-docs-ai/retrieval_service/app/retrieval/base.py:110\u001b[0m, in \u001b[0;36mRetrievalPipeline.search_documents\u001b[0;34m(self, query)\u001b[0m\n\u001b[1;32m    106\u001b[0m     \u001b[38;5;28;01mraise\u001b[39;00m \u001b[38;5;167;01mValueError\u001b[39;00m(\u001b[38;5;124m\"\u001b[39m\u001b[38;5;124mNo documentation source loaded\u001b[39m\u001b[38;5;124m\"\u001b[39m)\n\u001b[1;32m    108\u001b[0m \u001b[38;5;28;01mtry\u001b[39;00m:\n\u001b[1;32m    109\u001b[0m     \u001b[38;5;66;03m# Perform hybrid search\u001b[39;00m\n\u001b[0;32m--> 110\u001b[0m     results \u001b[38;5;241m=\u001b[39m \u001b[38;5;28;43mself\u001b[39;49m\u001b[38;5;241;43m.\u001b[39;49m\u001b[43msearch\u001b[49m\u001b[38;5;241;43m.\u001b[39;49m\u001b[43msearch\u001b[49m\u001b[43m(\u001b[49m\u001b[43mquery\u001b[49m\u001b[43m,\u001b[49m\u001b[43m \u001b[49m\u001b[38;5;28;43mself\u001b[39;49m\u001b[38;5;241;43m.\u001b[39;49m\u001b[43mchunks\u001b[49m\u001b[43m)\u001b[49m\n\u001b[1;32m    112\u001b[0m     \u001b[38;5;66;03m# Check relevance\u001b[39;00m\n\u001b[1;32m    113\u001b[0m     query_embedding \u001b[38;5;241m=\u001b[39m \u001b[38;5;28mlist\u001b[39m(\u001b[38;5;28mself\u001b[39m\u001b[38;5;241m.\u001b[39mdense_embedder\u001b[38;5;241m.\u001b[39mmodel\u001b[38;5;241m.\u001b[39membed([query]))[\u001b[38;5;241m0\u001b[39m]\n",
      "File \u001b[0;32m~/Desktop/LLM_GEN_AI /api-docs-ai/retrieval_service/app/retrieval/scoring/hybrid.py:87\u001b[0m, in \u001b[0;36mHybridSearch.search\u001b[0;34m(self, query, texts, k)\u001b[0m\n\u001b[1;32m     84\u001b[0m rerank_candidates \u001b[38;5;241m=\u001b[39m selected_texts[:\u001b[38;5;241m20\u001b[39m]\n\u001b[1;32m     86\u001b[0m \u001b[38;5;66;03m# Rerank top candidates\u001b[39;00m\n\u001b[0;32m---> 87\u001b[0m rerank_scores \u001b[38;5;241m=\u001b[39m \u001b[38;5;28;43mself\u001b[39;49m\u001b[38;5;241;43m.\u001b[39;49m\u001b[43mrerank\u001b[49m(query, rerank_candidates)\n\u001b[1;32m     88\u001b[0m norm_rerank \u001b[38;5;241m=\u001b[39m \u001b[38;5;28mself\u001b[39m\u001b[38;5;241m.\u001b[39mnormalize_scores(rerank_scores)\n\u001b[1;32m     90\u001b[0m \u001b[38;5;66;03m# Final scoring\u001b[39;00m\n",
      "\u001b[0;31mAttributeError\u001b[0m: 'HybridSearch' object has no attribute 'rerank'"
     ]
    }
   ],
   "source": [
    "test_search(\"How to create a StatefulWidget?\")\n"
   ]
  },
  {
   "cell_type": "code",
   "execution_count": 12,
   "metadata": {},
   "outputs": [],
   "source": [
    "# First, clear any existing instances (if you've run the code before)\n",
    "from app.core.singleton import Singleton\n",
    "Singleton._instances = {}"
   ]
  },
  {
   "cell_type": "code",
   "execution_count": 5,
   "metadata": {},
   "outputs": [],
   "source": [
    "# Then run your test\n",
    "def test_search(query: str):\n",
    "    print(f\"Searching for: {query}\\n\")\n",
    "    results = pipeline.search_documents(query)\n",
    "    \n",
    "    print(f\"Status: {results['status']}\")\n",
    "    print(f\"Confidence: {results['confidence']}\\n\")\n",
    "    \n",
    "    if results['status'] == 'success':\n",
    "        for i, result in enumerate(results['results'][:3], 1):\n",
    "            print(f\"Result {i}:\")\n",
    "            print(f\"URL: {result['url']}\")\n",
    "            print(f\"Text: {result['text'][:200]}...\")\n",
    "            print(f\"Scores: {result['scores']}\\n\")\n"
   ]
  },
  {
   "cell_type": "code",
   "execution_count": 6,
   "metadata": {},
   "outputs": [
    {
     "name": "stdout",
     "output_type": "stream",
     "text": [
      "Using device: mps\n"
     ]
    }
   ],
   "source": [
    "# Initialize pipeline\n",
    "from app.core.enums import DocSource\n",
    "from app.retrieval.base import RetrievalPipeline"
   ]
  },
  {
   "cell_type": "code",
   "execution_count": 7,
   "metadata": {},
   "outputs": [
    {
     "name": "stdout",
     "output_type": "stream",
     "text": [
      "2025-02-11 20:39:58 | INFO     | retrieval_pipeline:__init__:19 - Initializing dense embedder with model BAAI/bge-small-en-v1.5 on mps\n",
      "2025-02-11 20:39:58 | INFO     | retrieval_pipeline:__init__:15 - Initializing sparse embedder with model prithivida/Splade_PP_en_v1\n",
      "2025-02-11 20:39:59 | INFO     | retrieval_pipeline:__init__:14 - Initializing reranker with model Xenova/ms-marco-MiniLM-L-6-v2\n",
      "2025-02-11 20:39:59 | INFO     | retrieval_pipeline:load_source:88 - Loading data for flutter\n",
      "2025-02-11 20:39:59 | INFO     | retrieval_pipeline:load_data:66 - Loading data for flutter from data/flutter_docs\n",
      "2025-02-11 20:39:59 | INFO     | retrieval_pipeline:load_data:100 - Successfully loaded all data for flutter\n",
      "2025-02-11 20:39:59 | INFO     | retrieval_pipeline:load_source:98 - Successfully loaded data for flutter\n"
     ]
    }
   ],
   "source": [
    "pipeline = RetrievalPipeline()\n",
    "pipeline.load_source(DocSource.FLUTTER)"
   ]
  },
  {
   "cell_type": "code",
   "execution_count": 8,
   "metadata": {},
   "outputs": [
    {
     "name": "stdout",
     "output_type": "stream",
     "text": [
      "Searching for: How to create a StatefulWidget?\n",
      "\n",
      "2025-02-11 20:40:02 | INFO     | retrieval_pipeline:rerank:23 - Reranking 20 texts\n",
      "2025-02-11 20:40:04 | INFO     | retrieval_pipeline:check_relevance:90 - Relevance metrics - Similarity: 0.824, Term overlap: 1.000\n",
      "Status: success\n",
      "Confidence: 0.82\n",
      "\n",
      "Result 1:\n",
      "URL: https://docs.flutter.dev/cookbook/animation/opacity-animation\n",
      "Text: Fade a widget in and out | Flutterdocs.flutter.dev uses cookies from Google to deliver and enhance the quality of its services and to analyze traffic . Learn more.OK , got it1 . Create a box to fade i...\n",
      "Scores: {'final': 0.928, 'dense': 0.794, 'sparse': 1.0, 'rerank': 1.0}\n",
      "\n",
      "Result 2:\n",
      "URL: https://docs.flutter.dev/cookbook/animation/opacity-animation\n",
      "Text: const MyApp ( ) ) ; class MyApp extends StatelessWidget { Widget build ( BuildContext context ) { const appTitle = 'Opacity Demo ' ; home : MyHomePage ( title : appTitle ) , // The StatefulWidget 's j...\n",
      "Scores: {'final': 0.867, 'dense': 0.728, 'sparse': 0.937, 'rerank': 0.944}\n",
      "\n",
      "Result 3:\n",
      "URL: https://docs.flutter.dev/ui/interactivity\n",
      "Text: stateless . If a widget can change—when a user interacts with it , for example—it 's stateful.A stateless widget never changes . Icon , IconButton , and Text are examples of stateless widgets . Statel...\n",
      "Scores: {'final': 0.854, 'dense': 1.0, 'sparse': 0.73, 'rerank': 0.79}\n",
      "\n"
     ]
    }
   ],
   "source": [
    "test_search(\"How to create a StatefulWidget?\")\n"
   ]
  },
  {
   "cell_type": "code",
   "execution_count": null,
   "metadata": {},
   "outputs": [],
   "source": [
    "pip install -e ."
   ]
  }
 ],
 "metadata": {
  "kernelspec": {
   "display_name": "nextjs",
   "language": "python",
   "name": "python3"
  },
  "language_info": {
   "codemirror_mode": {
    "name": "ipython",
    "version": 3
   },
   "file_extension": ".py",
   "mimetype": "text/x-python",
   "name": "python",
   "nbconvert_exporter": "python",
   "pygments_lexer": "ipython3",
   "version": "3.9.21"
  }
 },
 "nbformat": 4,
 "nbformat_minor": 2
}
